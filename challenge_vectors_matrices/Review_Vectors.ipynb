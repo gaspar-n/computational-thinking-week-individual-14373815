{
 "cells": [
  {
   "cell_type": "markdown",
   "id": "e906e58b",
   "metadata": {},
   "source": [
    "Welcome to the review of vectors and matrices. Vectors and matrices provide a foundation for various mathematical operations, your understanding of them will be essential for effectively exploring and interpreting real-world social data. By the end of this review, I hope you'll be familiar with basic data manipulation and get a feel for how powerful they can be."
   ]
  },
  {
   "cell_type": "markdown",
   "id": "e44817be",
   "metadata": {},
   "source": [
    "## Learning goals\n",
    "Refresh your knowledge of vectors and matrices:\n",
    "- Vector (column) addition, subtraction, multiplication\n",
    "- Data merging and deleting\n",
    "- Data filtering and grouping"
   ]
  },
  {
   "cell_type": "markdown",
   "id": "6faa8bd0",
   "metadata": {},
   "source": [
    "# Background story"
   ]
  },
  {
   "cell_type": "markdown",
   "id": "1ad4f614",
   "metadata": {},
   "source": [
    "At the end of one year, a trading company has hired you to help them calculate their trading results. The company is connecting to a large number of buyers, each of them has bought a number of products from them. The products of the company are in three different categories: Toys, Decorations and Clothing. For each product, they recorded its price (as Unit_Price in the unit of dollars) and the quantity sold (Sales_Quantity). They also inclueded its price and the quantity sold last year (as Unit_Price_Last_Year and Sales_Quantity_Last_Year). The recorded data is stored in the table \"data_company_A_external.csv\".\n",
    "\n",
    "Use your knowledge of vector manipulation to help them in the following questions.\n",
    "\n",
    "Note: All the data in this file are not real data, the actual situation will be more complicated than this."
   ]
  },
  {
   "cell_type": "code",
   "execution_count": 1,
   "id": "cd584357",
   "metadata": {},
   "outputs": [],
   "source": [
    "import base64\n",
    "import numpy as np\n",
    "import pandas as pd\n",
    "import matplotlib.pyplot as plt"
   ]
  },
  {
   "cell_type": "code",
   "execution_count": 10,
   "id": "6eda4f6b",
   "metadata": {},
   "outputs": [],
   "source": [
    "# Read your data\n",
    "external_df = pd.read_csv('data_company_A_external.csv')\n",
    "internal_df = pd.read_csv('data_company_A_internal.csv')"
   ]
  },
  {
   "cell_type": "markdown",
   "id": "8cb7e486",
   "metadata": {},
   "source": [
    "# Bronze medal: Vector (column) addition, multiplication\n",
    "\n",
    "a) As an important parameter of the trading status for this year, they wish they can know their total sales value for this year. The sales value of one product is the unit price ($) times the sales quantity (number). The value of total sales is the value of all product sales combined. And this is exactly the dot product of vectors.\n",
    "\n",
    "In other words, the equations of sales are:\n",
    "\n",
    "#### $\\text{Sales}_{\\text{ for one product}} = \\text{Unit Price} \\times \\text{Sales Quantity}$\n",
    "\n",
    "#### $\\text{Total Sales} = \\text{Sum of sales for all products}$\n",
    "\n",
    "If $V_{\\text{Unit Price}}$ is the vector representing all unit price, and $V_{\\text{Sales Quantity}}$ is the one for sales quantity, the equation will be:\n",
    "\n",
    "### $V_{\\text{Total Sales}} = V_{\\text{Unit Price}} \\cdot V_{\\text{Sales Quantity}}$\n",
    "\n",
    "Can you help them calculate their total sales for this year? (Try to manipulate on the entire column rather than each product)"
   ]
  },
  {
   "cell_type": "code",
   "execution_count": 6,
   "id": "229e6313",
   "metadata": {},
   "outputs": [
    {
     "name": "stdout",
     "output_type": "stream",
     "text": [
      "The total sales this year is: 20348107.40\n"
     ]
    }
   ],
   "source": [
    "def compute_total_sales(df):\n",
    "    total_sales = (df['Unit_Price'] * df['Sales_Quantity']).sum()\n",
    "    return total_sales\n",
    "\n",
    "print(\"The total sales this year is: {:.2f}\".format(compute_total_sales(external_df)))"
   ]
  },
  {
   "cell_type": "code",
   "execution_count": 7,
   "id": "90c21a45-eab8-4f35-bd7d-298932aa4f08",
   "metadata": {},
   "outputs": [
    {
     "name": "stdout",
     "output_type": "stream",
     "text": [
      "def compute_total_sales(df):\n",
      "    total_sales = df['Unit_Price'].dot(df['Sales_Quantity'])\n",
      "    return total_sales\n",
      "\n",
      "The total sales this year is: 20348107.40\n"
     ]
    }
   ],
   "source": [
    "# Run the following code to show one of the possible answer\n",
    "print(base64.b64decode(\"ZGVmIGNvbXB1dGVfdG90YWxfc2FsZXMoZGYpOgogICAgdG90YWxfc2FsZXMgPSBkZlsnVW5pdF9QcmljZSddLmRvdChkZlsnU2FsZXNfUXVhbnRpdHknXSkKICAgIHJldHVybiB0b3RhbF9zYWxlcwoKVGhlIHRvdGFsIHNhbGVzIHRoaXMgeWVhciBpczogMjAzNDgxMDcuNDA=\").decode())"
   ]
  },
  {
   "cell_type": "markdown",
   "id": "9cdc0d28-c9e5-424d-85c6-a8dc12257198",
   "metadata": {},
   "source": [
    "b) Their data also contains information from last year. So we can calculate growth and growth rate of total sales compared to last year.\n",
    "\n",
    "The growth and growth rate are parameters that describes how much a particular variable, like total sales here, has grown over a period of time. Growth of total sales is calculated by subtracting the total sales of the previous year from the total sales of the current year. It answers the question, \"By how much did our sales figures change when compared to last year?\"\n",
    "\n",
    "Mathematically, the formula to calculate sales growth is:\n",
    "\n",
    "$ \\text{Growth} = \\text{Total Sales This Year} - \\text{Total Sales Last Year} $\n",
    "\n",
    "And growth rate is typically expressed as a percentage of the initial value and can be calculated using the formula:\n",
    "\n",
    "$ \\text{Growth Rate} = \\left( \\frac{{\\text{Growth}}}{{\\text{Total Sales Last Year}}} \\right) \\times 100 $\n",
    "\n",
    "Can you help them calculate what the growth and growth rate?"
   ]
  },
  {
   "cell_type": "code",
   "execution_count": 8,
   "id": "5028e108",
   "metadata": {},
   "outputs": [
    {
     "name": "stdout",
     "output_type": "stream",
     "text": [
      "Growth: 137616.03\n",
      "Growth Rate: 0.68 %\n"
     ]
    }
   ],
   "source": [
    "def compute_growth(df):\n",
    "    total_sales_this_year = (df['Unit_Price'] * df['Sales_Quantity']).sum()\n",
    "    total_sales_last_year = (df['Unit_Price_Last_Year'] * df['Sales_Quantity_Last_Year']).sum()\n",
    "    growth = total_sales_this_year - total_sales_last_year\n",
    "    return growth\n",
    "\n",
    "def compute_growth_rate(df):\n",
    "    total_sales_last_year = (df['Unit_Price_Last_Year'] * df['Sales_Quantity_Last_Year']).sum()\n",
    "    growth = compute_growth(df)\n",
    "    growth_rate = (growth / total_sales_last_year) * 100\n",
    "    return growth_rate\n",
    "\n",
    "print(\"Growth: {:.2f}\".format(compute_growth(external_df)))\n",
    "print(\"Growth Rate: {:.2f} %\".format(compute_growth_rate(external_df)))\n"
   ]
  },
  {
   "cell_type": "markdown",
   "id": "50c09e47",
   "metadata": {},
   "source": [
    "# Silver medal: Database merging and deleting\n",
    "\n",
    "a) In a further step, the company wanted to know how much money it had made this year. For this purpose, they provide another internal dataset for this year that captures the profit margin for each product, the promotional inputs they spend, and fixed costs as the sum of other expenses.\n",
    "\n",
    "The equation for the total profit is:\n",
    "\n",
    "### $\\text{Total Profit} = \\sum \\left( \\text{Sales} \\times \\text{Profit Margin} - \\text{Fixed Costs} \\right)$\n",
    "\n",
    "The sales here is the sales for one prodoct, and the summation sumes over all products.\n",
    "\n",
    "Can you combine these two sets of data into one and calculate the total profit?"
   ]
  },
  {
   "cell_type": "code",
   "execution_count": null,
   "id": "7bf0b45c-1f80-497d-a754-569e0c5e7070",
   "metadata": {},
   "outputs": [],
   "source": [
    "# You may need to import the internal data\n",
    "# TO DO"
   ]
  },
  {
   "cell_type": "code",
   "execution_count": 14,
   "id": "9993a907-0eae-4922-ad3d-2c3df5d81557",
   "metadata": {},
   "outputs": [],
   "source": [
    "# Merge the two datasets based on the product index\n",
    "merged_df = pd.merge(external_df, internal_df, on='Product_Index')\n",
    "\n"
   ]
  },
  {
   "cell_type": "code",
   "execution_count": 21,
   "id": "7a643cb0",
   "metadata": {},
   "outputs": [
    {
     "name": "stdout",
     "output_type": "stream",
     "text": [
      "Total Profit: 150378.92\n"
     ]
    }
   ],
   "source": [
    "# Start to calculate the total profit\n",
    "def compute_total_profit(merged_df):\n",
    "    total_profit = (merged_df['Sales_Quantity'] * merged_df['Profit_Margin'] - merged_df['Fixed_Costs']).sum()\n",
    "    return total_profit\n",
    "\n",
    "print(f\"Total Profit: {compute_total_profit(merged_df):.2f}\")\n"
   ]
  },
  {
   "cell_type": "code",
   "execution_count": null,
   "id": "e609756c",
   "metadata": {},
   "outputs": [],
   "source": []
  },
  {
   "cell_type": "markdown",
   "id": "265d6ca4",
   "metadata": {},
   "source": [
    "b) Two buyers (buyer IDs: \"IFKKSE\" and \"IFYWAB\") cancelled their orders on short notice. In this case we would like to delete the corresponding products and calculate the new profit."
   ]
  },
  {
   "cell_type": "code",
   "execution_count": 22,
   "id": "af76ab21",
   "metadata": {},
   "outputs": [
    {
     "name": "stdout",
     "output_type": "stream",
     "text": [
      "New Profit: 148879.76\n"
     ]
    }
   ],
   "source": [
    "# Start to calculate new profit after removing certain buyers\n",
    "def compute_profit_delete(df):\n",
    "    # Drop the rows with buyer IDs \"IFKKSE\" and \"IFYWAB\"\n",
    "    updated_df = df.drop(df[df['Buyer_ID'].isin(['IFKKSE', 'IFYWAB'])].index)\n",
    "    \n",
    "    # Calculate the new profit\n",
    "    new_profit = (updated_df['Sales_Quantity'] * updated_df['Profit_Margin'] - updated_df['Fixed_Costs']).sum()\n",
    "    \n",
    "    return new_profit\n",
    "\n",
    "print(f\"New Profit: {compute_profit_delete(merged_df):.2f}\")"
   ]
  },
  {
   "cell_type": "markdown",
   "id": "a033601a",
   "metadata": {},
   "source": [
    "c) While in practice, it is often not possible to simply delete entries from the database. Technically, this can cause problems for other functions that depend on the entry. And in the commercial sector, there are often additional trading rules to solve these problems.\n",
    "\n",
    "Now let's assume that a common treatment taken by this company is to return the products to the manufacturer. And when they return the corresponding products to the manufacturer, the manufacturer refunds them only 80% of the unit price.\n",
    "\n",
    "Can you calculate the profit in this case? Do you need to re-import the database when you complete this step?"
   ]
  },
  {
   "cell_type": "code",
   "execution_count": 23,
   "id": "28100311",
   "metadata": {},
   "outputs": [
    {
     "name": "stdout",
     "output_type": "stream",
     "text": [
      "Profit with Adjustments: 150378.92\n"
     ]
    }
   ],
   "source": [
    "def compute_profit_refund(df):\n",
    "    adjusted_unit_price = df['Unit_Price'] * 0.8\n",
    "    profit = (df['Sales_Quantity'] * df['Profit_Margin'] - df['Fixed_Costs']).sum()\n",
    "    return profit\n",
    "\n",
    "print(\"Profit with Adjustments: {:.2f}\".format(compute_profit_refund(merged_df)))\n"
   ]
  },
  {
   "cell_type": "markdown",
   "id": "80137b3e",
   "metadata": {},
   "source": [
    "# Gold medal: Data filtering and grouping\n",
    "\n",
    "a) We would like to discover further information hidden in the data. Can you plot sales against promotional inputs and check if some kind of pattern exists? \n",
    "\n",
    "If you have found some patterns, you can move on to the next question. If not, at the end of this content (the part marked by *) we have provided two hints for you to use at your leisure.\n",
    "\n",
    "(Note again, the patterns in this question is not the actual law of the market.)"
   ]
  },
  {
   "cell_type": "code",
   "execution_count": 24,
   "id": "4cac80b2-b920-4519-afbf-7384074a717f",
   "metadata": {},
   "outputs": [
    {
     "data": {
      "image/png": "[encoded data removed]",
      "text/plain": [
       "<Figure size 640x480 with 1 Axes>"
      ]
     },
     "metadata": {},
     "output_type": "display_data"
    }
   ],
   "source": [
    "import matplotlib.pyplot as plt\n",
    "\n",
    "plt.scatter(merged_df['Promotional_Input'], merged_df['Sales_Quantity'])\n",
    "plt.xlabel('Promotional Inputs')\n",
    "plt.ylabel('Sales Quantity')\n",
    "plt.title('Sales vs Promotional Inputs')\n",
    "plt.show()"
   ]
  },
  {
   "cell_type": "markdown",
   "id": "31627561",
   "metadata": {},
   "source": [
    "b) According to the observed patterns, if there is a product belonging to the \"Decorations\" category and the company spends $15,000 on its promotional input, how many sales can be expected? (Try to estimate its value, or choose an answer from the following options)"
   ]
  },
  {
   "cell_type": "code",
   "execution_count": 31,
   "id": "c96b671d",
   "metadata": {},
   "outputs": [
    {
     "name": "stdout",
     "output_type": "stream",
     "text": [
      "Estimated sales for a Decorations product with $15,000 in promotional inputs: 20829.87\n"
     ]
    }
   ],
   "source": [
    "def estimate_sales(df):\n",
    "    decorations_df = df[df['Category'] == 'Decorations']\n",
    "    promotional_inputs = 15000\n",
    "    estimated_sales = decorations_df['Sales_Quantity'].mean() * (promotional_inputs / decorations_df['Promotional_Input'].mean())\n",
    "    return estimated_sales\n",
    "\n",
    "estimated_sales = estimate_sales(merged_df)\n",
    "print(\"Estimated sales for a Decorations product with $15,000 in promotional inputs: {:.2f}\".format(estimated_sales))\n"
   ]
  },
  {
   "cell_type": "markdown",
   "id": "4abf85c3",
   "metadata": {},
   "source": [
    "*: Here are two hints for the gold Medal, they will make this task easier. You can try to find the pattern by yourself and then check the hints at some point later."
   ]
  },
  {
   "cell_type": "code",
   "execution_count": 26,
   "id": "b215c0c5-45c8-4abc-87f6-5284b5518c07",
   "metadata": {},
   "outputs": [
    {
     "name": "stdout",
     "output_type": "stream",
     "text": [
      "Hint 1: The table contains all kinds of products of the company, which may also contain special products or products sold through special methods. Such products are characterized by the fact that they will usually have exceptionally high or low profit margins.\n"
     ]
    }
   ],
   "source": [
    "# Run the following code to show hint 1\n",
    "print(base64.b64decode(\"SGludCAxOiBUaGUgdGFibGUgY29udGFpbnMgYWxsIGtpbmRzIG9mIHByb2R1Y3RzIG9mIHRoZSBjb21wYW55LCB3aGljaCBtYXkgYWxzbyBjb250YWluIHNwZWNpYWwgcHJvZHVjdHMgb3IgcHJvZHVjdHMgc29sZCB0aHJvdWdoIHNwZWNpYWwgbWV0aG9kcy4gU3VjaCBwcm9kdWN0cyBhcmUgY2hhcmFjdGVyaXplZCBieSB0aGUgZmFjdCB0aGF0IHRoZXkgd2lsbCB1c3VhbGx5IGhhdmUgZXhjZXB0aW9uYWxseSBoaWdoIG9yIGxvdyBwcm9maXQgbWFyZ2lucy4=\").decode())"
   ]
  },
  {
   "cell_type": "code",
   "execution_count": 30,
   "id": "170f6f35-86b9-459f-a2e2-d4aa8449d517",
   "metadata": {},
   "outputs": [
    {
     "name": "stdout",
     "output_type": "stream",
     "text": [
      "Hint 2: Different product categories have different markets and may have different patterns.\n"
     ]
    }
   ],
   "source": [
    "# Run the following code to show hint 2\n",
    "print(base64.b64decode(\"SGludCAyOiBEaWZmZXJlbnQgcHJvZHVjdCBjYXRlZ29yaWVzIGhhdmUgZGlmZmVyZW50IG1hcmtldHMgYW5kIG1heSBoYXZlIGRpZmZlcmVudCBwYXR0ZXJucy4=\").decode())"
   ]
  }
 ],
 "metadata": {
  "kernelspec": {
   "display_name": "Python 3",
   "language": "python",
   "name": "python3"
  },
  "language_info": {
   "codemirror_mode": {
    "name": "ipython",
    "version": 3
   },
   "file_extension": ".py",
   "mimetype": "text/x-python",
   "name": "python",
   "nbconvert_exporter": "python",
   "pygments_lexer": "ipython3",
   "version": "3.12.1"
  }
 },
 "nbformat": 4,
 "nbformat_minor": 5
}
